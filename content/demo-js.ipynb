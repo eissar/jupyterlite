{
    "metadata": {
        "kernelspec": {
            "name": "xjavascript",
            "display_name": "JavaScript (xjavascript)",
            "language": "javascript"
        },
        "language_info": {
            "codemirror_mode": "",
            "file_extension": "js",
            "mimetype": "text/x-javascript",
            "name": "javascript",
            "nbconvert_exporter": "",
            "pygments_lexer": "",
            "version": "ES6"
        }
    },
    "nbformat_minor": 4,
    "nbformat": 4,
    "cells": [
        {
            "cell_type": "code",
            "source": "Object.keys(globalThis)",
            "metadata": {
                "trusted": true
            },
            "outputs": [
                {
                    "execution_count": 15,
                    "output_type": "execute_result",
                    "data": {
                        "application/json": [
                            "name",
                            "onmessage",
                            "onmessageerror",
                            "cancelAnimationFrame",
                            "close",
                            "postMessage",
                            "requestAnimationFrame",
                            "webkitRequestFileSystem",
                            "webkitRequestFileSystemSync",
                            "webkitResolveLocalFileSystemSyncURL",
                            "webkitResolveLocalFileSystemURL",
                            "Module",
                            "toplevel_promise",
                            "toplevel_promise_py_proxy",
                            "get_stdin",
                            "ready",
                            "createXeusModule",
                            "meriyah",
                            "pprint",
                            "pp",
                            "ijs"
                        ]
                    },
                    "metadata": {}
                }
            ],
            "execution_count": 15
        },
        {
            "cell_type": "code",
            "source": "ijs.display.html('<h1>Hello from JavaScript!</h1><p>This is rendered as HTML.</p>');\n",
            "metadata": {
                "trusted": true
            },
            "outputs": [
                {
                    "output_type": "display_data",
                    "data": {
                        "text/html": "<h1>Hello from JavaScript!</h1><p>This is rendered as HTML.</p>"
                    },
                    "metadata": {}
                }
            ],
            "execution_count": 7
        },
        {
            "cell_type": "code",
            "source": "const myDiv = window.document.createElement('div');\nmyDiv.innerText = 'This is a div element.';\nmyDiv.style.border = '2px solid blue';\nmyDiv.style.padding = '10px';\nijs.display(myDiv);",
            "metadata": {
                "trusted": true
            },
            "outputs": [
                {
                    "ename": "ReferenceError",
                    "evalue": "window is not defined",
                    "traceback": [
                        "ReferenceError: window is not defined"
                    ],
                    "output_type": "error"
                }
            ],
            "execution_count": 14
        }
    ]
}
